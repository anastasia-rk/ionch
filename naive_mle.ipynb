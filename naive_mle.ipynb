{
 "cells": [
  {
   "cell_type": "markdown",
   "id": "9fedec34",
   "metadata": {},
   "source": [
    "here we explore the naive nonlinear least-squares method"
   ]
  },
  {
   "cell_type": "code",
   "execution_count": 4,
   "id": "ee5006e5",
   "metadata": {},
   "outputs": [],
   "source": [
    "import numpy as np\n",
    "from scipy import integrate, optimize, interpolate\n",
    "from matplotlib import pyplot as plt"
   ]
  },
  {
   "cell_type": "code",
   "execution_count": 12,
   "id": "eb1deff5",
   "metadata": {},
   "outputs": [],
   "source": [
    "def ion_channel_model(t, y, p):\n",
    "    a, r = y[:2]\n",
    "    *ps, g = p[:9]\n",
    "    k1 = p[0]*np.exp(p[1]*V(t))\n",
    "    k2 = p[2]*np.exp(-p[3]*V(t))\n",
    "    k3 = p[4]*np.exp(p[5]*V(t))\n",
    "    k4 = p[6]*np.exp(-p[7]*V(t))\n",
    "    \n",
    "    a_inf = k1/(k1+k2)\n",
    "    tau_a = 1/(k1+k2)\n",
    "    r_inf = k4/(k3+k4)\n",
    "    tau_r = 1/(k3+k4)\n",
    "    \n",
    "    da = (a_inf - a)/tau_a\n",
    "    dr = (r_inf - r)/tau_r\n",
    "    \n",
    "    return [\n",
    "        da, \n",
    "        dr\n",
    "    ]"
   ]
  },
  {
   "cell_type": "code",
   "execution_count": 6,
   "id": "981cd961",
   "metadata": {},
   "outputs": [],
   "source": [
    "def obsv(t, y, p):\n",
    "    # I\n",
    "    a, r = y[:2]\n",
    "    *ps, g = p[:9]\n",
    "    return g * a * r * (V(t) - EK)"
   ]
  },
  {
   "cell_type": "code",
   "execution_count": 5,
   "id": "b23f6c2c",
   "metadata": {},
   "outputs": [],
   "source": [
    "volt_ts, volts = np.genfromtxt(\"./protocol-staircaseramp.csv\", skip_header=1, dtype=float, delimiter=',').T\n",
    "volt_fn = interpolate.interp1d(volt_ts, volts, kind='previous')\n",
    "def V(t):\n",
    "#     return -80 + ca.floor(t/1000) * 20 + ca.mod(ca.floor(t/500), 2) * -10\n",
    "    return volt_fn(t/1000)"
   ]
  },
  {
   "cell_type": "code",
   "execution_count": 7,
   "id": "ccad9f60",
   "metadata": {},
   "outputs": [],
   "source": [
    "EK = -80\n",
    "\n",
    "y0 = [ # a, r\n",
    "    0, 1]\n",
    "\n",
    "p_true = [2.26e-4, 0.0699, 3.45e-5, 0.05462, 0.0873, 8.91e-3, 5.15e-3, 0.03158, 0.1524]"
   ]
  },
  {
   "cell_type": "code",
   "execution_count": 8,
   "id": "fe5deb23",
   "metadata": {},
   "outputs": [],
   "source": [
    "tlim = [0, 15_000]\n",
    "ts = np.linspace(*tlim, tlim[-1])"
   ]
  },
  {
   "cell_type": "code",
   "execution_count": 13,
   "id": "dc669c42",
   "metadata": {},
   "outputs": [],
   "source": [
    "ar_sol = integrate.solve_ivp(ion_channel_model, tlim, y0, args=[p_true], dense_output=True)"
   ]
  },
  {
   "cell_type": "code",
   "execution_count": 14,
   "id": "f1de972b",
   "metadata": {},
   "outputs": [
    {
     "data": {
      "text/plain": [
       "Text(0.5, 0, 't (ms)')"
      ]
     },
     "execution_count": 14,
     "metadata": {},
     "output_type": "execute_result"
    },
    {
     "data": {
      "image/png": "[encoded data removed]",
      "text/plain": [
       "<Figure size 720x288 with 1 Axes>"
      ]
     },
     "metadata": {
      "needs_background": "light"
     },
     "output_type": "display_data"
    }
   ],
   "source": [
    "plt.figure(figsize=[10, 4])\n",
    "plt.plot(ts, obsv(ts, ar_sol.sol(ts), p_true))\n",
    "plt.legend('I')\n",
    "plt.xlabel('t (ms)')"
   ]
  },
  {
   "cell_type": "code",
   "execution_count": 16,
   "id": "7cd792ce",
   "metadata": {},
   "outputs": [],
   "source": [
    "truth_synth = obsv(ts, ar_sol.sol(ts), p_true)\n",
    "\n",
    "y_synth = (truth_synth * (1 + 0.05*np.random.randn(*truth_synth.shape)))"
   ]
  },
  {
   "cell_type": "code",
   "execution_count": 19,
   "id": "74499325",
   "metadata": {},
   "outputs": [
    {
     "data": {
      "text/plain": [
       "[<matplotlib.lines.Line2D at 0x1cab9862500>]"
      ]
     },
     "execution_count": 19,
     "metadata": {},
     "output_type": "execute_result"
    },
    {
     "data": {
      "image/png": "[encoded data removed]",
      "text/plain": [
       "<Figure size 432x288 with 1 Axes>"
      ]
     },
     "metadata": {
      "needs_background": "light"
     },
     "output_type": "display_data"
    }
   ],
   "source": [
    "plt.plot(ts, y_synth)"
   ]
  },
  {
   "cell_type": "code",
   "execution_count": 20,
   "id": "5bd431eb",
   "metadata": {},
   "outputs": [],
   "source": [
    "def distance(p):\n",
    "    x_ar = integrate.solve_ivp(ion_channel_model, tlim, y0, args=[p], dense_output=True)\n",
    "    x_I = obsv(ts, x_ar.sol(ts), p)\n",
    "    \n",
    "    return np.linalg.norm(x_I - y_synth)**2"
   ]
  },
  {
   "cell_type": "code",
   "execution_count": null,
   "id": "bb84671b",
   "metadata": {},
   "outputs": [],
   "source": [
    "optimize.minimize(distance, x0=np.random.rand(9))"
   ]
  },
  {
   "cell_type": "code",
   "execution_count": null,
   "id": "5b6694ee",
   "metadata": {},
   "outputs": [],
   "source": [
    "1"
   ]
  },
  {
   "cell_type": "code",
   "execution_count": null,
   "id": "25be6e15",
   "metadata": {},
   "outputs": [],
   "source": []
  }
 ],
 "metadata": {
  "kernelspec": {
   "display_name": "Python 3 (ipykernel)",
   "language": "python",
   "name": "python3"
  },
  "language_info": {
   "codemirror_mode": {
    "name": "ipython",
    "version": 3
   },
   "file_extension": ".py",
   "mimetype": "text/x-python",
   "name": "python",
   "nbconvert_exporter": "python",
   "pygments_lexer": "ipython3",
   "version": "3.10.4"
  }
 },
 "nbformat": 4,
 "nbformat_minor": 5
}
