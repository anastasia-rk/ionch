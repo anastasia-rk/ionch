{
 "cells": [
  {
   "cell_type": "code",
   "execution_count": 1,
   "id": "13323b70",
   "metadata": {},
   "outputs": [],
   "source": [
    "import numpy as np\n",
    "import pandas as pd"
   ]
  },
  {
   "cell_type": "code",
   "execution_count": 2,
   "id": "2bab1c20",
   "metadata": {},
   "outputs": [],
   "source": [
    "data = pd.read_csv('staircase.changes')"
   ]
  },
  {
   "cell_type": "code",
   "execution_count": 3,
   "id": "9d0e0b2c",
   "metadata": {},
   "outputs": [],
   "source": [
    "ddx = data.to_numpy()"
   ]
  },
  {
   "cell_type": "code",
   "execution_count": 4,
   "id": "9704b228",
   "metadata": {},
   "outputs": [],
   "source": [
    "fn_str = '' \n",
    "cnt = 0\n",
    "for ti, tj, v, dep in zip(ddx[:-1,0], ddx[1:,0], ddx[:-1, 1], ddx[:-1,2]):\n",
    "    depx = f'+{dep}*(t-{ti})' if not np.isnan(dep) else '' \n",
    "    frag = f'ca.if_else(t<{tj}, {v}{depx}, '\n",
    "    cnt += 1\n",
    "    fn_str += frag\n",
    "fn_str += f'{ddx[-1, 1]}'\n",
    "fn_str += ')' * cnt"
   ]
  },
  {
   "cell_type": "code",
   "execution_count": 5,
   "id": "660d4615",
   "metadata": {},
   "outputs": [],
   "source": [
    "fn_full = f\"ca.Function('vfn', [t], [{fn_str}])\""
   ]
  },
  {
   "cell_type": "code",
   "execution_count": 5,
   "id": "ff42fce8",
   "metadata": {},
   "outputs": [],
   "source": []
  }
 ],
 "metadata": {
  "kernelspec": {
   "display_name": "Python 3 (ipykernel)",
   "language": "python",
   "name": "python3"
  },
  "language_info": {
   "codemirror_mode": {
    "name": "ipython",
    "version": 3
   },
   "file_extension": ".py",
   "mimetype": "text/x-python",
   "name": "python",
   "nbconvert_exporter": "python",
   "pygments_lexer": "ipython3",
   "version": "3.10.4"
  }
 },
 "nbformat": 4,
 "nbformat_minor": 5
}